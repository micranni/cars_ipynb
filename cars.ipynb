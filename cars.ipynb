{
 "cells": [
  {
   "cell_type": "code",
   "execution_count": 1,
   "metadata": {},
   "outputs": [
    {
     "name": "stdout",
     "output_type": "stream",
     "text": [
      "Requirement already satisfied: pandas in ./.venv/lib/python3.12/site-packages (2.2.3)\n",
      "Requirement already satisfied: numpy in ./.venv/lib/python3.12/site-packages (2.1.2)\n",
      "Requirement already satisfied: python-dateutil>=2.8.2 in ./.venv/lib/python3.12/site-packages (from pandas) (2.9.0.post0)\n",
      "Requirement already satisfied: pytz>=2020.1 in ./.venv/lib/python3.12/site-packages (from pandas) (2024.2)\n",
      "Requirement already satisfied: tzdata>=2022.7 in ./.venv/lib/python3.12/site-packages (from pandas) (2024.2)\n",
      "Requirement already satisfied: six>=1.5 in ./.venv/lib/python3.12/site-packages (from python-dateutil>=2.8.2->pandas) (1.16.0)\n",
      "Note: you may need to restart the kernel to use updated packages.\n"
     ]
    }
   ],
   "source": [
    "%pip install pandas numpy"
   ]
  },
  {
   "cell_type": "code",
   "execution_count": 2,
   "metadata": {},
   "outputs": [],
   "source": [
    "import pandas as pd\n",
    "import numpy as np"
   ]
  },
  {
   "cell_type": "code",
   "execution_count": 3,
   "metadata": {},
   "outputs": [
    {
     "data": {
      "text/html": [
       "<div>\n",
       "<style scoped>\n",
       "    .dataframe tbody tr th:only-of-type {\n",
       "        vertical-align: middle;\n",
       "    }\n",
       "\n",
       "    .dataframe tbody tr th {\n",
       "        vertical-align: top;\n",
       "    }\n",
       "\n",
       "    .dataframe thead th {\n",
       "        text-align: right;\n",
       "    }\n",
       "</style>\n",
       "<table border=\"1\" class=\"dataframe\">\n",
       "  <thead>\n",
       "    <tr style=\"text-align: right;\">\n",
       "      <th></th>\n",
       "      <th>id</th>\n",
       "      <th>price</th>\n",
       "      <th>year</th>\n",
       "      <th>manufacturer</th>\n",
       "      <th>model</th>\n",
       "      <th>condition</th>\n",
       "      <th>cylinders</th>\n",
       "      <th>fuel</th>\n",
       "      <th>odometer</th>\n",
       "      <th>title_status</th>\n",
       "      <th>transmission</th>\n",
       "      <th>drive</th>\n",
       "      <th>size</th>\n",
       "      <th>type</th>\n",
       "      <th>paint_color</th>\n",
       "      <th>posting_date</th>\n",
       "    </tr>\n",
       "  </thead>\n",
       "  <tbody>\n",
       "    <tr>\n",
       "      <th>0</th>\n",
       "      <td>7316356412</td>\n",
       "      <td>15000</td>\n",
       "      <td>2013.0</td>\n",
       "      <td>ford</td>\n",
       "      <td>f-150 xlt</td>\n",
       "      <td>excellent</td>\n",
       "      <td>6 cylinders</td>\n",
       "      <td>gas</td>\n",
       "      <td>128000.0</td>\n",
       "      <td>clean</td>\n",
       "      <td>automatic</td>\n",
       "      <td>rwd</td>\n",
       "      <td>full-size</td>\n",
       "      <td>truck</td>\n",
       "      <td>black</td>\n",
       "      <td>2021-05-03 14:02:03-05:00</td>\n",
       "    </tr>\n",
       "    <tr>\n",
       "      <th>1</th>\n",
       "      <td>7314560853</td>\n",
       "      <td>19900</td>\n",
       "      <td>2004.0</td>\n",
       "      <td>ford</td>\n",
       "      <td>f250 super duty</td>\n",
       "      <td>good</td>\n",
       "      <td>8 cylinders</td>\n",
       "      <td>diesel</td>\n",
       "      <td>88000.0</td>\n",
       "      <td>clean</td>\n",
       "      <td>automatic</td>\n",
       "      <td>4wd</td>\n",
       "      <td>full-size</td>\n",
       "      <td>pickup</td>\n",
       "      <td>blue</td>\n",
       "      <td>2021-04-29 17:19:18-05:00</td>\n",
       "    </tr>\n",
       "    <tr>\n",
       "      <th>2</th>\n",
       "      <td>7313406529</td>\n",
       "      <td>14000</td>\n",
       "      <td>2012.0</td>\n",
       "      <td>honda</td>\n",
       "      <td>odyssey</td>\n",
       "      <td>excellent</td>\n",
       "      <td>6 cylinders</td>\n",
       "      <td>gas</td>\n",
       "      <td>95000.0</td>\n",
       "      <td>clean</td>\n",
       "      <td>automatic</td>\n",
       "      <td>fwd</td>\n",
       "      <td>full-size</td>\n",
       "      <td>mini-van</td>\n",
       "      <td>silver</td>\n",
       "      <td>2021-04-27 12:20:01-05:00</td>\n",
       "    </tr>\n",
       "    <tr>\n",
       "      <th>3</th>\n",
       "      <td>7312847466</td>\n",
       "      <td>22500</td>\n",
       "      <td>2001.0</td>\n",
       "      <td>ford</td>\n",
       "      <td>f450</td>\n",
       "      <td>good</td>\n",
       "      <td>8 cylinders</td>\n",
       "      <td>diesel</td>\n",
       "      <td>144700.0</td>\n",
       "      <td>clean</td>\n",
       "      <td>manual</td>\n",
       "      <td>rwd</td>\n",
       "      <td>full-size</td>\n",
       "      <td>truck</td>\n",
       "      <td>white</td>\n",
       "      <td>2021-04-26 11:15:36-05:00</td>\n",
       "    </tr>\n",
       "    <tr>\n",
       "      <th>4</th>\n",
       "      <td>7312144944</td>\n",
       "      <td>15000</td>\n",
       "      <td>2017.0</td>\n",
       "      <td>dodge</td>\n",
       "      <td>charger rt 4dr sedan</td>\n",
       "      <td>excellent</td>\n",
       "      <td>8 cylinders</td>\n",
       "      <td>gas</td>\n",
       "      <td>90000.0</td>\n",
       "      <td>rebuilt</td>\n",
       "      <td>automatic</td>\n",
       "      <td>rwd</td>\n",
       "      <td>mid-size</td>\n",
       "      <td>sedan</td>\n",
       "      <td>grey</td>\n",
       "      <td>2021-04-24 18:39:59-05:00</td>\n",
       "    </tr>\n",
       "  </tbody>\n",
       "</table>\n",
       "</div>"
      ],
      "text/plain": [
       "           id  price    year manufacturer                 model  condition  \\\n",
       "0  7316356412  15000  2013.0         ford             f-150 xlt  excellent   \n",
       "1  7314560853  19900  2004.0         ford       f250 super duty       good   \n",
       "2  7313406529  14000  2012.0        honda               odyssey  excellent   \n",
       "3  7312847466  22500  2001.0         ford                  f450       good   \n",
       "4  7312144944  15000  2017.0        dodge  charger rt 4dr sedan  excellent   \n",
       "\n",
       "     cylinders    fuel  odometer title_status transmission drive       size  \\\n",
       "0  6 cylinders     gas  128000.0        clean    automatic   rwd  full-size   \n",
       "1  8 cylinders  diesel   88000.0        clean    automatic   4wd  full-size   \n",
       "2  6 cylinders     gas   95000.0        clean    automatic   fwd  full-size   \n",
       "3  8 cylinders  diesel  144700.0        clean       manual   rwd  full-size   \n",
       "4  8 cylinders     gas   90000.0      rebuilt    automatic   rwd   mid-size   \n",
       "\n",
       "       type paint_color               posting_date  \n",
       "0     truck       black  2021-05-03 14:02:03-05:00  \n",
       "1    pickup        blue  2021-04-29 17:19:18-05:00  \n",
       "2  mini-van      silver  2021-04-27 12:20:01-05:00  \n",
       "3     truck       white  2021-04-26 11:15:36-05:00  \n",
       "4     sedan        grey  2021-04-24 18:39:59-05:00  "
      ]
     },
     "execution_count": 3,
     "metadata": {},
     "output_type": "execute_result"
    }
   ],
   "source": [
    "df = pd.read_csv('dropped_data.csv')\n",
    "df.head()"
   ]
  },
  {
   "cell_type": "code",
   "execution_count": 5,
   "metadata": {},
   "outputs": [
    {
     "name": "stdout",
     "output_type": "stream",
     "text": [
      "fuel ['gas' 'diesel' 'hybrid' 'electric' 'other']\n",
      "title ['clean' 'rebuilt' 'salvage' 'lien' 'missing' 'parts only']\n",
      "manufacturer ['ford' 'honda' 'dodge' 'chrysler' 'toyota' 'chevrolet' 'jeep' 'lexus'\n",
      " 'bmw' 'gmc' 'mercedes-benz' 'mazda' 'ram' 'nissan' 'ferrari' 'audi'\n",
      " 'mitsubishi' 'infiniti' 'volkswagen' 'kia' 'hyundai' 'fiat' 'acura'\n",
      " 'cadillac' 'lincoln' 'jaguar' 'saturn' 'volvo' 'alfa-romeo' 'buick'\n",
      " 'subaru' 'mini' 'pontiac' 'rover' 'porsche' 'harley-davidson' 'tesla'\n",
      " 'mercury' 'datsun' 'land rover' 'aston-martin']\n",
      "transmission ['automatic' 'manual' 'other']\n",
      "drive ['rwd' '4wd' 'fwd']\n",
      "size ['full-size' 'mid-size' 'compact' 'sub-compact']\n",
      "type ['truck' 'pickup' 'mini-van' 'sedan' 'offroad' 'van' 'SUV' 'convertible'\n",
      " 'coupe' 'hatchback' 'wagon' 'other' 'bus']\n",
      "paint color ['black' 'blue' 'silver' 'white' 'grey' 'yellow' 'red' 'green' 'brown'\n",
      " 'custom' 'purple' 'orange']\n"
     ]
    }
   ],
   "source": [
    "print(f\"fuel {df['fuel'].unique()}\")\n",
    "print(f\"title {df['title_status'].unique()}\")\n",
    "print(f\"manufacturer {df['manufacturer'].unique()}\")\n",
    "print(f\"transmission {df['transmission'].unique()}\")\n",
    "print(f\"drive {df['drive'].unique()}\")\n",
    "print(f\"size {df['size'].unique()}\")\n",
    "print(f\"type {df['type'].unique()}\")\n",
    "print(f\"paint color {df['paint_color'].unique()}\")\n",
    "\n"
   ]
  },
  {
   "cell_type": "code",
   "execution_count": 10,
   "metadata": {},
   "outputs": [
    {
     "name": "stdout",
     "output_type": "stream",
     "text": [
      "cyl ['6 cylinders' '8 cylinders' '4 cylinders' '5 cylinders' '10 cylinders'\n",
      " '3 cylinders' 'other' '12 cylinders']\n"
     ]
    }
   ],
   "source": [
    "print(f\"cyl {df['cylinders'].unique()}\")\n"
   ]
  }
 ],
 "metadata": {
  "kernelspec": {
   "display_name": ".venv",
   "language": "python",
   "name": "python3"
  },
  "language_info": {
   "codemirror_mode": {
    "name": "ipython",
    "version": 3
   },
   "file_extension": ".py",
   "mimetype": "text/x-python",
   "name": "python",
   "nbconvert_exporter": "python",
   "pygments_lexer": "ipython3",
   "version": "3.12.6"
  }
 },
 "nbformat": 4,
 "nbformat_minor": 2
}
